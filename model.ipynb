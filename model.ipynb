{
 "cells": [
  {
   "cell_type": "code",
   "execution_count": 2,
   "id": "8ac6f858",
   "metadata": {
    "id": "8ac6f858"
   },
   "outputs": [],
   "source": [
    "import matplotlib.pyplot as plt\n",
    "import matplotlib.font_manager as font_manager\n",
    "import urllib.request\n",
    "import matplotlib as mpl\n",
    "import numpy as np\n",
    "import os\n",
    "os.environ['TF_CPP_MIN_LOG_LEVEL'] = '3'\n",
    "import tensorflow as tf\n",
    "tf.get_logger().setLevel('INFO')\n",
    "gpus = tf.config.experimental.list_physical_devices(device_type='GPU')\n",
    "# tf.config.experimental.set_visible_devices(devices=gpus[1], device_type='GPU')\n",
    "# tf.config.experimental.set_memory_growth(device=gpus[1], enable=True)\n",
    "import urllib\n",
    "from dataclasses import dataclass\n",
    "# import tensorflowjs as tfjs\n",
    "# import tensorflow_decision_forests as tfdf\n",
    "import json\n",
    "from tqdm import tqdm\n",
    "import seaborn as sns\n",
    "import sys\n",
    "np.random.seed(0)\n",
    "urllib.request.urlretrieve('https://github.com/google/fonts/raw/main/ofl/ibmplexmono/IBMPlexMono-Regular.ttf', 'IBMPlexMono-Regular.ttf')\n",
    "fe = font_manager.FontEntry(\n",
    "    fname='IBMPlexMono-Regular.ttf',\n",
    "    name='plexmono')\n",
    "font_manager.fontManager.ttflist.append(fe)\n",
    "plt.rcParams.update({'axes.facecolor':'#f5f4e9',\n",
    "            'grid.color' : '#AAAAAA',\n",
    "            'axes.edgecolor':'#333333',\n",
    "            'figure.facecolor':'#FFFFFF',\n",
    "            'axes.grid': False,\n",
    "            'axes.prop_cycle':   plt.cycler('color', plt.cm.Dark2.colors),\n",
    "            'font.family': fe.name,\n",
    "            'figure.figsize': (3.5,3.5 / 1.2),\n",
    "            'ytick.left': True,\n",
    "            'xtick.bottom': True\n",
    "           })"
   ]
  },
  {
   "cell_type": "code",
   "execution_count": 3,
   "id": "ba66fdc9",
   "metadata": {
    "colab": {
     "base_uri": "https://localhost:8080/"
    },
    "id": "ba66fdc9",
    "outputId": "ad0c2c4f-1ad4-4690-b9ad-df7c511cbeed"
   },
   "outputs": [
    {
     "name": "stdout",
     "output_type": "stream",
     "text": [
      "Num GPUs Available:  1\n"
     ]
    }
   ],
   "source": [
    "print(\"Num GPUs Available: \", len(tf.config.list_physical_devices('GPU')))"
   ]
  },
  {
   "cell_type": "code",
   "execution_count": 4,
   "id": "f33af40f",
   "metadata": {
    "id": "f33af40f"
   },
   "outputs": [],
   "source": [
    "urllib.request.urlretrieve(\n",
    "    \"https://github.com/ur-whitelab/peptide-dashboard/raw/master/ml/data/hemo-positive.npz\",\n",
    "    \"positive.npz\",\n",
    ")\n",
    "urllib.request.urlretrieve(\n",
    "    \"https://github.com/ur-whitelab/peptide-dashboard/raw/master/ml/data/hemo-negative.npz\",\n",
    "    \"negative.npz\",\n",
    ")\n",
    "\n",
    "with np.load(\"positive.npz\") as r:\n",
    "    pos_data = r[list(r.keys())[0]]\n",
    "with np.load(\"negative.npz\") as r:\n",
    "    neg_data = r[list(r.keys())[0]]"
   ]
  },
  {
   "cell_type": "code",
   "execution_count": 5,
   "id": "abc6fa0e",
   "metadata": {
    "id": "abc6fa0e"
   },
   "outputs": [],
   "source": [
    "def decoder(seq_vector):\n",
    "  alphabet = ['A','R','N','D','C','Q','E','G','H','I', 'L','K','M','F','P','S','T','W','Y','V']\n",
    "  seq = []\n",
    "  for i, index in enumerate(seq_vector.astype('int')):\n",
    "    if index == 0:\n",
    "      break\n",
    "    seq.append(alphabet[index-1])\n",
    "  seq = ''.join(seq)\n",
    "  return seq"
   ]
  },
  {
   "cell_type": "code",
   "execution_count": 6,
   "id": "b5d46340",
   "metadata": {
    "id": "b5d46340"
   },
   "outputs": [],
   "source": [
    "def counts_aa(vec):\n",
    "    counts =  tf.histogram_fixed_width(vec, [0, 20], nbins=21)[1:]\n",
    "    return counts /tf.reduce_sum(counts)\n"
   ]
  },
  {
   "cell_type": "code",
   "execution_count": 7,
   "id": "e0eddcfc",
   "metadata": {
    "colab": {
     "base_uri": "https://localhost:8080/"
    },
    "id": "e0eddcfc",
    "outputId": "72ec5187-c470-4089-e638-082c3b24ddb7",
    "scrolled": true
   },
   "outputs": [
    {
     "name": "stdout",
     "output_type": "stream",
     "text": [
      "(7304, 190)\n",
      "(7295, 190)\n"
     ]
    }
   ],
   "source": [
    "def build_fakes(n, data, max_length=200):\n",
    "    result = []\n",
    "    for _ in range(n):\n",
    "        # sample this many subsequences\n",
    "        avg_data_lengths = np.mean(np.count_nonzero(data, axis=1))\n",
    "        k = np.clip(np.random.poisson(avg_data_lengths), 1, len(data) - 1)\n",
    "        from scipy.stats import norm\n",
    "        k = np.clip(np.random.poisson(1), 0, len(data) - 2) + 2\n",
    "        idx = np.random.choice(range(len(data)), replace=False, size=k)\n",
    "        seq = []\n",
    "        lengths = []\n",
    "        # cut-up k into one new sequence\n",
    "        for i in range(k):\n",
    "            if np.argmin(data[idx[i]]) > 1:\n",
    "                l = np.ceil(2 * np.random.randint(1, np.argmin(data[idx[i]])) / k).astype(int)\n",
    "                lengths.append(l)\n",
    "                j = np.random.randint(0, np.argmin(data[idx[i]]) - lengths[i])\n",
    "            else:\n",
    "                lengths.append(1)\n",
    "                j = 0\n",
    "            s = data[idx[i]][j:j+lengths[i]]\n",
    "            seq.append(s)\n",
    "        seq.append([0] * (len(data[0]) - sum(lengths)))\n",
    "        # check to make sure seq length >= 1 and is valid\n",
    "        sample_seq = np.concatenate(seq)\n",
    "        if np.argmin(np.concatenate(seq)) >= 1:\n",
    "            result.append(sample_seq)\n",
    "    return np.array(result)\n",
    "\n",
    "sampled_vecs = build_fakes(pos_data.shape[0]*4, pos_data, max_length=100)\n",
    "print(sampled_vecs.shape)\n",
    "sampled_vecs = np.array(sampled_vecs)\n",
    "sampled_vecs = np.unique(sampled_vecs, axis=0)\n",
    "print(sampled_vecs.shape)"
   ]
  },
  {
   "cell_type": "code",
   "execution_count": 8,
   "id": "8447cc2b",
   "metadata": {
    "colab": {
     "base_uri": "https://localhost:8080/",
     "height": 569
    },
    "id": "8447cc2b",
    "outputId": "20c19ac9-4848-4801-8af9-863e4dd8eb7f"
   },
   "outputs": [
    {
     "data": {
      "text/plain": [
       "<matplotlib.legend.Legend at 0x7f3733f23c90>"
      ]
     },
     "execution_count": 8,
     "metadata": {},
     "output_type": "execute_result"
    },
    {
     "data": {
      "image/png": "[encoded data removed]",
      "text/plain": [
       "<Figure size 700x583.333 with 1 Axes>"
      ]
     },
     "metadata": {},
     "output_type": "display_data"
    }
   ],
   "source": [
    "neg_data_lengths = np.count_nonzero(neg_data, axis=1)\n",
    "unlabeled_data_lengths = np.count_nonzero(sampled_vecs, axis=1)\n",
    "pos_data_lengths = np.count_nonzero(pos_data, axis=1)\n",
    "\n",
    "plt.figure(dpi=200)\n",
    "plt.hist(pos_data_lengths, label='pos', alpha=0.3)\n",
    "plt.hist(neg_data_lengths, label='neg',alpha=0.3)\n",
    "plt.hist(unlabeled_data_lengths, label='unlabeled', alpha=0.3)\n",
    "plt.legend()"
   ]
  },
  {
   "cell_type": "code",
   "execution_count": 9,
   "id": "5d201403",
   "metadata": {
    "colab": {
     "base_uri": "https://localhost:8080/"
    },
    "id": "5d201403",
    "outputId": "5aa6611c-1b21-4760-e1b8-f15e2af1f73f"
   },
   "outputs": [
    {
     "name": "stdout",
     "output_type": "stream",
     "text": [
      "1 1 2\n",
      "77 190 79\n"
     ]
    }
   ],
   "source": [
    "print(min(pos_data_lengths), min(neg_data_lengths), min(unlabeled_data_lengths))\n",
    "print(max(pos_data_lengths), max(neg_data_lengths), max(unlabeled_data_lengths))"
   ]
  },
  {
   "cell_type": "code",
   "execution_count": 10,
   "id": "rvcx3uot-hFA",
   "metadata": {
    "colab": {
     "base_uri": "https://localhost:8080/"
    },
    "id": "rvcx3uot-hFA",
    "outputId": "7127d544-3591-4f2c-b7a1-1df2b8de571d"
   },
   "outputs": [
    {
     "data": {
      "text/plain": [
       "1826"
      ]
     },
     "execution_count": 10,
     "metadata": {},
     "output_type": "execute_result"
    }
   ],
   "source": [
    "len(pos_data)"
   ]
  },
  {
   "cell_type": "code",
   "execution_count": 11,
   "id": "2579489d",
   "metadata": {
    "colab": {
     "base_uri": "https://localhost:8080/",
     "height": 569
    },
    "id": "2579489d",
    "outputId": "16dd306e-dbc4-4d9e-fd33-450fdad3e646"
   },
   "outputs": [
    {
     "data": {
      "text/plain": [
       "<matplotlib.legend.Legend at 0x7f382c0fff90>"
      ]
     },
     "execution_count": 11,
     "metadata": {},
     "output_type": "execute_result"
    },
    {
     "data": {
      "image/png": "[encoded data removed]",
      "text/plain": [
       "<Figure size 700x583.333 with 1 Axes>"
      ]
     },
     "metadata": {},
     "output_type": "display_data"
    }
   ],
   "source": [
    "## AA frequencies\n",
    "plt.figure(dpi=200)\n",
    "plt.plot(counts_aa(pos_data), label='pos')\n",
    "plt.plot(counts_aa(neg_data), label='neg')\n",
    "plt.plot(counts_aa(sampled_vecs), label='unlabeled')\n",
    "plt.legend()"
   ]
  },
  {
   "cell_type": "code",
   "execution_count": 12,
   "id": "f0cf722d",
   "metadata": {
    "colab": {
     "base_uri": "https://localhost:8080/"
    },
    "id": "f0cf722d",
    "outputId": "2fe7912e-8e63-47f2-c741-3e3eebea9b15"
   },
   "outputs": [
    {
     "name": "stdout",
     "output_type": "stream",
     "text": [
      "(1478, 190) (165, 190) (183, 190) (7490, 190) (7295, 190)\n",
      "Positive data: 1826\n",
      "Negative data: 7490\n",
      "Unlabeled data: 7295\n"
     ]
    }
   ],
   "source": [
    "def split_train_test_data(pos, neg, unlabeled, test_size_pos=0.1, val_size=0.1, unlabeled_size=0.2, seed=None):\n",
    "    np.random.seed(seed)\n",
    "    np.random.shuffle(pos)\n",
    "    np.random.shuffle(neg)\n",
    "    np.random.shuffle(unlabeled)\n",
    "    from sklearn.model_selection import train_test_split\n",
    "    X_test_negative = neg\n",
    "    X_train_positive, X_test_positive, _, _ = train_test_split(pos, np.ones(pos.shape[0]),\n",
    "                                                                                        test_size=test_size_pos, random_state=seed)\n",
    "    X_train_positive, X_val_positive, _, _ = train_test_split(X_train_positive, np.ones(X_train_positive.shape[0]),\n",
    "                                                                                    test_size=val_size, random_state=seed)\n",
    "    X_unlabeled = unlabeled\n",
    "\n",
    "    print(X_train_positive.shape, X_val_positive.shape, X_test_positive.shape, X_test_negative.shape,  X_unlabeled.shape)\n",
    "    return X_train_positive, X_val_positive, X_test_positive, X_test_negative, X_unlabeled\n",
    "\n",
    "seed = 0\n",
    "X_train_positive, X_val_positive, X_test_positive, X_test_negative, X_unlabeled = split_train_test_data(pos_data, neg_data, sampled_vecs, seed=seed)\n",
    "\n",
    "print('Positive data:', pos_data.shape[0])\n",
    "print('Negative data:', neg_data.shape[0])\n",
    "print('Unlabeled data:', len(X_unlabeled))"
   ]
  },
  {
   "cell_type": "code",
   "execution_count": 13,
   "id": "OruImbanJi84",
   "metadata": {
    "id": "OruImbanJi84"
   },
   "outputs": [],
   "source": [
    "X_train = np.vstack([X_train_positive, X_unlabeled])\n",
    "y_train = np.concatenate([np.ones(X_train_positive.shape[0]), np.zeros(X_unlabeled.shape[0])])\n",
    "np.random.seed(seed)\n",
    "train_shuffled_indices = np.random.permutation(len(X_train))\n",
    "X_train = X_train[train_shuffled_indices]\n",
    "y_train = y_train[train_shuffled_indices]"
   ]
  },
  {
   "cell_type": "code",
   "execution_count": 26,
   "id": "ace2eec0-5ab8-42c2-a53f-ead78ffe0039",
   "metadata": {},
   "outputs": [],
   "source": [
    "X_test = np.vstack([X_test_positive, X_test_negative])\n",
    "y_test = np.concatenate([np.ones(X_test_positive.shape[0]), np.zeros(X_test_negative.shape[0])])"
   ]
  },
  {
   "cell_type": "code",
   "execution_count": 23,
   "id": "597b519d",
   "metadata": {
    "id": "597b519d"
   },
   "outputs": [],
   "source": [
    "@dataclass\n",
    "class Config:\n",
    "    vocab_size: int\n",
    "    example_number: int\n",
    "    batch_size: int\n",
    "    buffer_size: int\n",
    "    rnn_units: int\n",
    "    hidden_dim: int\n",
    "    embedding_dim: int\n",
    "    reg_strength: float\n",
    "    lr: float\n",
    "    drop_rate: float\n",
    "\n",
    "config = Config(vocab_size=21, # include gap\n",
    "                example_number=len(pos_data),\n",
    "                batch_size=256,\n",
    "                buffer_size=10000,\n",
    "                rnn_units=64,\n",
    "                hidden_dim=64,\n",
    "                embedding_dim=32,\n",
    "                reg_strength=0,\n",
    "                lr=1e-3,\n",
    "                drop_rate=0.2\n",
    "               )\n",
    "\n",
    "def counts_aa(vec):\n",
    "    counts =  tf.histogram_fixed_width(vec, [0, 20], nbins=21)[1:]\n",
    "    return counts/tf.reduce_sum(counts)\n",
    "\n",
    "def build_model(L):\n",
    "    inputs = tf.keras.Input(shape=(L,))\n",
    "    input_f = tf.keras.Input(shape=(20,))\n",
    "    # make embedding and indicate that 0 should be treated as padding mask\n",
    "    e = tf.keras.layers.Embedding(input_dim=config.vocab_size,\n",
    "                                        output_dim=config.embedding_dim,\n",
    "                                        mask_zero=True)(inputs)\n",
    "\n",
    "    # RNN layer\n",
    "    x = tf.keras.layers.Bidirectional(tf.keras.layers.LSTM(config.rnn_units, return_sequences=True))(e)\n",
    "    x = tf.keras.layers.Bidirectional(tf.keras.layers.LSTM(config.rnn_units))(x)\n",
    "    x = tf.keras.layers.Concatenate()([x, input_f])\n",
    "    x = tf.keras.layers.LayerNormalization()(x)\n",
    "    x = tf.keras.layers.Dropout(config.drop_rate)(x)\n",
    "    # a dense hidden layer\n",
    "    x = tf.keras.layers.Dense(\n",
    "        config.hidden_dim,\n",
    "        activation='relu',\n",
    "        kernel_regularizer=tf.keras.regularizers.l2(config.reg_strength))(x)\n",
    "    x = tf.keras.layers.LayerNormalization()(x)\n",
    "    x = tf.keras.layers.Dropout(config.drop_rate)(x)\n",
    "    x = tf.keras.layers.Dense(\n",
    "        config.hidden_dim // 4,\n",
    "        activation='relu',\n",
    "        kernel_regularizer=tf.keras.regularizers.l2(config.reg_strength))(x)\n",
    "    x = tf.keras.layers.LayerNormalization()(x)\n",
    "    x = tf.keras.layers.Dropout(config.drop_rate)(x)\n",
    "    # predicting prob, so no activation\n",
    "    yhat = tf.keras.layers.Dense(1, activation='sigmoid')(x)\n",
    "\n",
    "    model = tf.keras.Model(inputs=[inputs, input_f], outputs=yhat)\n",
    "    return model\n",
    "\n",
    "\n",
    "\n",
    "def train_model(X_train, y_train, batch_size=64, L=None):\n",
    "    model = build_model(L)\n",
    "    decay_epochs = 50\n",
    "    decay_steps = len(X_train)  // 16 * decay_epochs\n",
    "    lr_decayed_fn = tf.keras.optimizers.schedules.CosineDecay(\n",
    "          config.lr, decay_steps, alpha=1e-3)\n",
    "    opt = tf.optimizers.Adam(lr_decayed_fn)\n",
    "    tf.keras.backend.clear_session()\n",
    "    early_stopping = tf.keras.callbacks.EarlyStopping(monitor='auc', patience=10, min_delta=1e-2, restore_best_weights=True)\n",
    "    focal_loss  = tf.keras.losses.BinaryFocalCrossentropy(\n",
    "                gamma=5, from_logits=False,  apply_class_balancing=True\n",
    "                )\n",
    "    model.compile(\n",
    "            optimizer=opt,\n",
    "            loss=tf.keras.losses.BinaryCrossentropy(from_logits=False),\n",
    "            metrics=[tf.keras.metrics.AUC(from_logits=False), tf.keras.metrics.BinaryAccuracy(threshold=0.5)],\n",
    "            )\n",
    "    print(f'\\n\\nModel l inputs with spies: Negative:{plt.hist(y_train)[0][0]}, Positive:{plt.hist(y_train)[0][-1]}\\n\\n')\n",
    "    history = model.fit(\n",
    "        [X_train, np.array([counts_aa(xi) for xi in X_train])] , y_train,\n",
    "#         validation_data=([X_test_L, np.array([counts_aa(xi) for xi in X_test_L])] , y_test_L),\n",
    "        epochs=200,\n",
    "        batch_size=batch_size,\n",
    "        callbacks=[early_stopping],\n",
    "        verbose=2,\n",
    "    )\n",
    "    return model\n",
    "\n",
    "import queue\n",
    "from threading import Thread, Lock\n",
    "import traceback\n",
    "\n",
    "def train_and_save_model(model_queue, X_train, y_train, batch_size, L, lock, thread_id):\n",
    "    try:\n",
    "        print(f\"Starting training for model {thread_id}\")\n",
    "        model = train_model(X_train, y_train, batch_size, L)\n",
    "        lock.acquire()\n",
    "        model_queue.put(model)\n",
    "        lock.release()\n",
    "        print(f\"Training completed for model {thread_id}\")\n",
    "    except Exception as e:\n",
    "        print(f\"An error occurred in model {thread_id}: {str(e)}\")\n",
    "        traceback.print_exc()\n",
    "\n",
    "def sequential_train(num_models, X_train, y_train, L):\n",
    "    models = []\n",
    "    for _ in range(num_models):\n",
    "        print(f\"Starting training for model {_}\")\n",
    "        t = train_model(X_train, y_train, batch_size=config.batch_size, L=L)\n",
    "        print(f\"Training completed for model {_}\")\n",
    "        models.append(t)\n",
    "\n",
    "    return models\n",
    "\n",
    "def parallel_train(num_models, X_train, y_train, L):\n",
    "    model_queue = queue.Queue()\n",
    "    threads = []\n",
    "    lock = Lock()\n",
    "\n",
    "    for _ in range(num_models):\n",
    "        t = Thread(target=train_and_save_model, args=(model_queue, X_train, y_train, config.batch_size, L, lock, _))\n",
    "        t.start()\n",
    "        threads.append(t)\n",
    "\n",
    "    for t in threads:\n",
    "        t.join()\n",
    "\n",
    "    models = []\n",
    "    while not model_queue.empty():\n",
    "        models.append(model_queue.get())\n",
    "\n",
    "    return models\n",
    "\n",
    "class F1Score(tf.keras.metrics.Metric):\n",
    "  def __init__(self, name='F1Score', **kwargs):\n",
    "    super(F1Score, self).__init__(name=name, **kwargs)\n",
    "    self.f1score = self.add_weight(name='F1Score', initializer='zeros')\n",
    "    self.count = self.add_weight(name='F1ScoreCount', initializer='zeros')\n",
    "\n",
    "  def update_state(self, y_true, y_pred, sample_weight=None):\n",
    "    import keras.backend as K\n",
    "    y_true = tf.cast(y_true, tf.bool)\n",
    "    y_pred = tf.cast(y_pred, tf.bool)\n",
    "\n",
    "    true_positives = tf.logical_and(tf.equal(y_true, True), tf.equal(y_pred, True))\n",
    "    true_positives = tf.cast(true_positives, self.dtype)\n",
    "    count_true_positives = tf.reduce_sum(true_positives)\n",
    "\n",
    "    possible_positives = tf.cast(y_true, self.dtype)\n",
    "    count_possible_positives = tf.reduce_sum(possible_positives)\n",
    "\n",
    "    predicted_positives = tf.cast(y_pred, self.dtype)\n",
    "    count_predicted_positives = tf.reduce_sum(predicted_positives)\n",
    "\n",
    "    precision = count_true_positives / (count_predicted_positives + K.epsilon())\n",
    "    recall = count_true_positives / (count_possible_positives + K.epsilon())\n",
    "    f1_cal = 2*(precision*recall)/(precision + recall + K.epsilon())\n",
    "\n",
    "    self.count.assign_add(1)\n",
    "    a = 1.0 / self.count\n",
    "    b = 1.0 - a\n",
    "    self.f1score.assign(a*f1_cal+b*self.f1score)\n",
    "\n",
    "  def result(self):\n",
    "    return self.f1score"
   ]
  },
  {
   "cell_type": "code",
   "execution_count": 24,
   "id": "2m4NGAGpDtxy",
   "metadata": {
    "colab": {
     "base_uri": "https://localhost:8080/",
     "height": 1000
    },
    "id": "2m4NGAGpDtxy",
    "outputId": "a8ffb1a1-7aca-4931-84b9-0feba4b38b90",
    "scrolled": true
   },
   "outputs": [
    {
     "name": "stdout",
     "output_type": "stream",
     "text": [
      "Starting training for model 0\n",
      "\n",
      "\n",
      "Model l inputs with spies: Negative:7295.0, Positive:1478.0\n",
      "\n",
      "\n",
      "Epoch 1/200\n",
      "35/35 - 13s - 363ms/step - auc: 0.5097 - binary_accuracy: 0.8049 - loss: 0.5148\n",
      "Epoch 2/200\n",
      "35/35 - 9s - 267ms/step - auc: 0.5185 - binary_accuracy: 0.8304 - loss: 0.4707\n",
      "Epoch 3/200\n",
      "35/35 - 9s - 269ms/step - auc: 0.5139 - binary_accuracy: 0.8305 - loss: 0.4650\n",
      "Epoch 4/200\n",
      "35/35 - 9s - 265ms/step - auc: 0.5710 - binary_accuracy: 0.8306 - loss: 0.4530\n",
      "Epoch 5/200\n",
      "35/35 - 9s - 265ms/step - auc: 0.6656 - binary_accuracy: 0.8299 - loss: 0.4336\n",
      "Epoch 6/200\n",
      "35/35 - 9s - 265ms/step - auc: 0.7152 - binary_accuracy: 0.8416 - loss: 0.4037\n",
      "Epoch 7/200\n",
      "35/35 - 9s - 270ms/step - auc: 0.7465 - binary_accuracy: 0.8463 - loss: 0.3942\n",
      "Epoch 8/200\n",
      "35/35 - 9s - 265ms/step - auc: 0.7557 - binary_accuracy: 0.8454 - loss: 0.3855\n",
      "Epoch 9/200\n",
      "35/35 - 9s - 265ms/step - auc: 0.7868 - binary_accuracy: 0.8550 - loss: 0.3637\n",
      "Epoch 10/200\n",
      "35/35 - 9s - 267ms/step - auc: 0.7898 - binary_accuracy: 0.8580 - loss: 0.3629\n",
      "Epoch 11/200\n",
      "35/35 - 9s - 268ms/step - auc: 0.8157 - binary_accuracy: 0.8655 - loss: 0.3430\n",
      "Epoch 12/200\n",
      "35/35 - 9s - 266ms/step - auc: 0.8323 - binary_accuracy: 0.8668 - loss: 0.3339\n",
      "Epoch 13/200\n",
      "35/35 - 9s - 266ms/step - auc: 0.8423 - binary_accuracy: 0.8737 - loss: 0.3228\n",
      "Epoch 14/200\n",
      "35/35 - 9s - 265ms/step - auc: 0.8530 - binary_accuracy: 0.8745 - loss: 0.3181\n",
      "Epoch 15/200\n",
      "35/35 - 9s - 268ms/step - auc: 0.8665 - binary_accuracy: 0.8770 - loss: 0.3047\n",
      "Epoch 16/200\n",
      "35/35 - 9s - 268ms/step - auc: 0.8712 - binary_accuracy: 0.8815 - loss: 0.2966\n",
      "Epoch 17/200\n",
      "35/35 - 9s - 268ms/step - auc: 0.8798 - binary_accuracy: 0.8859 - loss: 0.2901\n",
      "Epoch 18/200\n",
      "35/35 - 9s - 269ms/step - auc: 0.8894 - binary_accuracy: 0.8866 - loss: 0.2789\n",
      "Epoch 19/200\n",
      "35/35 - 9s - 264ms/step - auc: 0.8856 - binary_accuracy: 0.8860 - loss: 0.2835\n",
      "Epoch 20/200\n",
      "35/35 - 9s - 265ms/step - auc: 0.8945 - binary_accuracy: 0.8933 - loss: 0.2667\n",
      "Epoch 21/200\n",
      "35/35 - 9s - 266ms/step - auc: 0.9057 - binary_accuracy: 0.9011 - loss: 0.2575\n",
      "Epoch 22/200\n",
      "35/35 - 9s - 267ms/step - auc: 0.8990 - binary_accuracy: 0.8962 - loss: 0.2640\n",
      "Epoch 23/200\n",
      "35/35 - 9s - 265ms/step - auc: 0.9078 - binary_accuracy: 0.9040 - loss: 0.2479\n",
      "Epoch 24/200\n",
      "35/35 - 9s - 265ms/step - auc: 0.9077 - binary_accuracy: 0.9028 - loss: 0.2496\n",
      "Epoch 25/200\n",
      "35/35 - 9s - 266ms/step - auc: 0.9164 - binary_accuracy: 0.9076 - loss: 0.2411\n",
      "Epoch 26/200\n",
      "35/35 - 9s - 270ms/step - auc: 0.9149 - binary_accuracy: 0.9086 - loss: 0.2394\n",
      "Epoch 27/200\n",
      "35/35 - 9s - 267ms/step - auc: 0.9204 - binary_accuracy: 0.9128 - loss: 0.2299\n",
      "Epoch 28/200\n",
      "35/35 - 9s - 268ms/step - auc: 0.9251 - binary_accuracy: 0.9199 - loss: 0.2204\n",
      "Epoch 29/200\n",
      "35/35 - 9s - 267ms/step - auc: 0.9315 - binary_accuracy: 0.9215 - loss: 0.2148\n",
      "Epoch 30/200\n",
      "35/35 - 9s - 266ms/step - auc: 0.9307 - binary_accuracy: 0.9187 - loss: 0.2127\n",
      "Epoch 31/200\n",
      "35/35 - 9s - 265ms/step - auc: 0.9320 - binary_accuracy: 0.9196 - loss: 0.2116\n",
      "Epoch 32/200\n",
      "35/35 - 9s - 266ms/step - auc: 0.9349 - binary_accuracy: 0.9223 - loss: 0.2088\n",
      "Epoch 33/200\n",
      "35/35 - 9s - 266ms/step - auc: 0.9354 - binary_accuracy: 0.9219 - loss: 0.2060\n",
      "Epoch 34/200\n",
      "35/35 - 9s - 267ms/step - auc: 0.9374 - binary_accuracy: 0.9280 - loss: 0.2017\n",
      "Epoch 35/200\n",
      "35/35 - 9s - 265ms/step - auc: 0.9392 - binary_accuracy: 0.9269 - loss: 0.2025\n",
      "Epoch 36/200\n",
      "35/35 - 9s - 263ms/step - auc: 0.9430 - binary_accuracy: 0.9307 - loss: 0.1915\n",
      "Epoch 37/200\n",
      "35/35 - 9s - 266ms/step - auc: 0.9449 - binary_accuracy: 0.9309 - loss: 0.1911\n",
      "Epoch 38/200\n",
      "35/35 - 9s - 265ms/step - auc: 0.9431 - binary_accuracy: 0.9314 - loss: 0.1928\n",
      "Epoch 39/200\n",
      "35/35 - 9s - 267ms/step - auc: 0.9476 - binary_accuracy: 0.9349 - loss: 0.1826\n",
      "Epoch 40/200\n",
      "35/35 - 9s - 266ms/step - auc: 0.9459 - binary_accuracy: 0.9327 - loss: 0.1856\n",
      "Epoch 41/200\n",
      "35/35 - 9s - 268ms/step - auc: 0.9512 - binary_accuracy: 0.9370 - loss: 0.1741\n",
      "Epoch 42/200\n",
      "35/35 - 9s - 266ms/step - auc: 0.9565 - binary_accuracy: 0.9433 - loss: 0.1658\n",
      "Epoch 43/200\n",
      "35/35 - 9s - 267ms/step - auc: 0.9582 - binary_accuracy: 0.9457 - loss: 0.1562\n",
      "Epoch 44/200\n",
      "35/35 - 9s - 268ms/step - auc: 0.9577 - binary_accuracy: 0.9447 - loss: 0.1591\n",
      "Epoch 45/200\n",
      "35/35 - 9s - 266ms/step - auc: 0.9578 - binary_accuracy: 0.9447 - loss: 0.1595\n",
      "Epoch 46/200\n",
      "35/35 - 9s - 267ms/step - auc: 0.9616 - binary_accuracy: 0.9488 - loss: 0.1494\n",
      "Epoch 47/200\n",
      "35/35 - 9s - 264ms/step - auc: 0.9626 - binary_accuracy: 0.9483 - loss: 0.1501\n",
      "Epoch 48/200\n",
      "35/35 - 9s - 267ms/step - auc: 0.9635 - binary_accuracy: 0.9500 - loss: 0.1465\n",
      "Epoch 49/200\n",
      "35/35 - 9s - 269ms/step - auc: 0.9652 - binary_accuracy: 0.9537 - loss: 0.1393\n",
      "Epoch 50/200\n",
      "35/35 - 9s - 267ms/step - auc: 0.9669 - binary_accuracy: 0.9573 - loss: 0.1323\n",
      "Epoch 51/200\n",
      "35/35 - 9s - 265ms/step - auc: 0.9679 - binary_accuracy: 0.9546 - loss: 0.1362\n",
      "Epoch 52/200\n",
      "35/35 - 9s - 266ms/step - auc: 0.9644 - binary_accuracy: 0.9532 - loss: 0.1431\n",
      "Epoch 53/200\n",
      "35/35 - 9s - 266ms/step - auc: 0.9654 - binary_accuracy: 0.9533 - loss: 0.1408\n",
      "Epoch 54/200\n",
      "35/35 - 9s - 268ms/step - auc: 0.9694 - binary_accuracy: 0.9570 - loss: 0.1335\n",
      "Epoch 55/200\n",
      "35/35 - 9s - 266ms/step - auc: 0.9710 - binary_accuracy: 0.9626 - loss: 0.1189\n",
      "Epoch 56/200\n",
      "35/35 - 9s - 267ms/step - auc: 0.9741 - binary_accuracy: 0.9626 - loss: 0.1168\n",
      "Epoch 57/200\n",
      "35/35 - 9s - 262ms/step - auc: 0.9717 - binary_accuracy: 0.9598 - loss: 0.1231\n",
      "Epoch 58/200\n",
      "35/35 - 9s - 262ms/step - auc: 0.9748 - binary_accuracy: 0.9622 - loss: 0.1195\n",
      "Epoch 59/200\n",
      "35/35 - 9s - 266ms/step - auc: 0.9772 - binary_accuracy: 0.9653 - loss: 0.1081\n",
      "Epoch 60/200\n",
      "35/35 - 9s - 266ms/step - auc: 0.9808 - binary_accuracy: 0.9681 - loss: 0.1004\n",
      "Epoch 61/200\n",
      "35/35 - 9s - 264ms/step - auc: 0.9792 - binary_accuracy: 0.9682 - loss: 0.1032\n",
      "Epoch 62/200\n",
      "35/35 - 9s - 267ms/step - auc: 0.9781 - binary_accuracy: 0.9658 - loss: 0.1094\n",
      "Epoch 63/200\n",
      "35/35 - 9s - 267ms/step - auc: 0.9772 - binary_accuracy: 0.9612 - loss: 0.1139\n",
      "Epoch 64/200\n",
      "35/35 - 9s - 265ms/step - auc: 0.9812 - binary_accuracy: 0.9684 - loss: 0.0974\n",
      "Epoch 65/200\n",
      "35/35 - 9s - 267ms/step - auc: 0.9799 - binary_accuracy: 0.9672 - loss: 0.1019\n",
      "Epoch 66/200\n",
      "35/35 - 9s - 266ms/step - auc: 0.9846 - binary_accuracy: 0.9713 - loss: 0.0901\n",
      "Epoch 67/200\n",
      "35/35 - 9s - 265ms/step - auc: 0.9825 - binary_accuracy: 0.9707 - loss: 0.0922\n",
      "Epoch 68/200\n",
      "35/35 - 9s - 267ms/step - auc: 0.9845 - binary_accuracy: 0.9718 - loss: 0.0865\n",
      "Epoch 69/200\n",
      "35/35 - 9s - 266ms/step - auc: 0.9855 - binary_accuracy: 0.9744 - loss: 0.0809\n",
      "Training completed for model 0\n",
      "Starting training for model 1\n",
      "\n",
      "\n",
      "Model l inputs with spies: Negative:7295.0, Positive:1478.0\n",
      "\n",
      "\n",
      "Epoch 1/200\n",
      "35/35 - 12s - 356ms/step - auc: 0.5136 - binary_accuracy: 0.8099 - loss: 0.4959\n",
      "Epoch 2/200\n",
      "35/35 - 9s - 264ms/step - auc: 0.5227 - binary_accuracy: 0.8297 - loss: 0.4701\n",
      "Epoch 3/200\n",
      "35/35 - 9s - 262ms/step - auc: 0.5946 - binary_accuracy: 0.8311 - loss: 0.4506\n",
      "Epoch 4/200\n",
      "35/35 - 9s - 266ms/step - auc: 0.6857 - binary_accuracy: 0.8347 - loss: 0.4188\n",
      "Epoch 5/200\n",
      "35/35 - 9s - 265ms/step - auc: 0.7339 - binary_accuracy: 0.8383 - loss: 0.4019\n",
      "Epoch 6/200\n",
      "35/35 - 9s - 263ms/step - auc: 0.7629 - binary_accuracy: 0.8485 - loss: 0.3846\n",
      "Epoch 7/200\n",
      "35/35 - 9s - 264ms/step - auc: 0.7786 - binary_accuracy: 0.8501 - loss: 0.3724\n",
      "Epoch 8/200\n",
      "35/35 - 9s - 264ms/step - auc: 0.7979 - binary_accuracy: 0.8536 - loss: 0.3612\n",
      "Epoch 9/200\n",
      "35/35 - 9s - 264ms/step - auc: 0.8114 - binary_accuracy: 0.8581 - loss: 0.3527\n",
      "Epoch 10/200\n",
      "35/35 - 9s - 263ms/step - auc: 0.8194 - binary_accuracy: 0.8622 - loss: 0.3459\n",
      "Epoch 11/200\n",
      "35/35 - 9s - 262ms/step - auc: 0.8327 - binary_accuracy: 0.8638 - loss: 0.3361\n",
      "Epoch 12/200\n",
      "35/35 - 9s - 260ms/step - auc: 0.8421 - binary_accuracy: 0.8680 - loss: 0.3280\n",
      "Epoch 13/200\n",
      "35/35 - 9s - 263ms/step - auc: 0.8453 - binary_accuracy: 0.8727 - loss: 0.3250\n",
      "Epoch 14/200\n",
      "35/35 - 9s - 264ms/step - auc: 0.8633 - binary_accuracy: 0.8791 - loss: 0.3063\n",
      "Epoch 15/200\n",
      "35/35 - 9s - 264ms/step - auc: 0.8705 - binary_accuracy: 0.8809 - loss: 0.3015\n",
      "Epoch 16/200\n",
      "35/35 - 9s - 263ms/step - auc: 0.8788 - binary_accuracy: 0.8858 - loss: 0.2905\n",
      "Epoch 17/200\n",
      "35/35 - 9s - 265ms/step - auc: 0.8924 - binary_accuracy: 0.8867 - loss: 0.2812\n",
      "Epoch 18/200\n",
      "35/35 - 9s - 264ms/step - auc: 0.8970 - binary_accuracy: 0.8898 - loss: 0.2734\n",
      "Epoch 19/200\n",
      "35/35 - 9s - 262ms/step - auc: 0.9032 - binary_accuracy: 0.8925 - loss: 0.2665\n",
      "Epoch 20/200\n",
      "35/35 - 9s - 266ms/step - auc: 0.9067 - binary_accuracy: 0.8984 - loss: 0.2586\n",
      "Epoch 21/200\n",
      "35/35 - 9s - 263ms/step - auc: 0.9123 - binary_accuracy: 0.9029 - loss: 0.2495\n",
      "Epoch 22/200\n",
      "35/35 - 9s - 262ms/step - auc: 0.9191 - binary_accuracy: 0.9050 - loss: 0.2407\n",
      "Epoch 23/200\n",
      "35/35 - 9s - 265ms/step - auc: 0.9213 - binary_accuracy: 0.9078 - loss: 0.2429\n",
      "Epoch 24/200\n",
      "35/35 - 9s - 262ms/step - auc: 0.9209 - binary_accuracy: 0.9061 - loss: 0.2361\n",
      "Epoch 25/200\n",
      "35/35 - 9s - 262ms/step - auc: 0.9265 - binary_accuracy: 0.9111 - loss: 0.2274\n",
      "Epoch 26/200\n",
      "35/35 - 9s - 263ms/step - auc: 0.9301 - binary_accuracy: 0.9117 - loss: 0.2234\n",
      "Epoch 27/200\n",
      "35/35 - 9s - 265ms/step - auc: 0.9344 - binary_accuracy: 0.9147 - loss: 0.2187\n",
      "Epoch 28/200\n",
      "35/35 - 9s - 261ms/step - auc: 0.9383 - binary_accuracy: 0.9190 - loss: 0.2098\n",
      "Epoch 29/200\n",
      "35/35 - 9s - 263ms/step - auc: 0.9381 - binary_accuracy: 0.9215 - loss: 0.2074\n",
      "Epoch 30/200\n",
      "35/35 - 9s - 261ms/step - auc: 0.9420 - binary_accuracy: 0.9233 - loss: 0.2039\n",
      "Epoch 31/200\n",
      "35/35 - 9s - 263ms/step - auc: 0.9396 - binary_accuracy: 0.9220 - loss: 0.2029\n",
      "Epoch 32/200\n",
      "35/35 - 9s - 263ms/step - auc: 0.9490 - binary_accuracy: 0.9301 - loss: 0.1867\n",
      "Epoch 33/200\n",
      "35/35 - 9s - 261ms/step - auc: 0.9514 - binary_accuracy: 0.9256 - loss: 0.1882\n",
      "Epoch 34/200\n",
      "35/35 - 9s - 262ms/step - auc: 0.9521 - binary_accuracy: 0.9268 - loss: 0.1867\n",
      "Epoch 35/200\n",
      "35/35 - 9s - 264ms/step - auc: 0.9557 - binary_accuracy: 0.9355 - loss: 0.1744\n",
      "Epoch 36/200\n",
      "35/35 - 9s - 261ms/step - auc: 0.9576 - binary_accuracy: 0.9365 - loss: 0.1742\n",
      "Epoch 37/200\n",
      "35/35 - 9s - 263ms/step - auc: 0.9597 - binary_accuracy: 0.9374 - loss: 0.1711\n",
      "Epoch 38/200\n",
      "35/35 - 9s - 263ms/step - auc: 0.9596 - binary_accuracy: 0.9407 - loss: 0.1609\n",
      "Epoch 39/200\n",
      "35/35 - 9s - 266ms/step - auc: 0.9617 - binary_accuracy: 0.9421 - loss: 0.1632\n",
      "Epoch 40/200\n",
      "35/35 - 9s - 264ms/step - auc: 0.9630 - binary_accuracy: 0.9395 - loss: 0.1579\n",
      "Epoch 41/200\n",
      "35/35 - 9s - 268ms/step - auc: 0.9668 - binary_accuracy: 0.9469 - loss: 0.1468\n",
      "Epoch 42/200\n",
      "35/35 - 9s - 265ms/step - auc: 0.9639 - binary_accuracy: 0.9473 - loss: 0.1508\n",
      "Epoch 43/200\n",
      "35/35 - 9s - 261ms/step - auc: 0.9654 - binary_accuracy: 0.9497 - loss: 0.1452\n",
      "Epoch 44/200\n",
      "35/35 - 9s - 264ms/step - auc: 0.9686 - binary_accuracy: 0.9455 - loss: 0.1450\n",
      "Epoch 45/200\n",
      "35/35 - 9s - 263ms/step - auc: 0.9705 - binary_accuracy: 0.9506 - loss: 0.1374\n",
      "Epoch 46/200\n",
      "35/35 - 9s - 264ms/step - auc: 0.9674 - binary_accuracy: 0.9509 - loss: 0.1436\n",
      "Epoch 47/200\n",
      "35/35 - 9s - 265ms/step - auc: 0.9738 - binary_accuracy: 0.9549 - loss: 0.1313\n",
      "Epoch 48/200\n",
      "35/35 - 9s - 263ms/step - auc: 0.9750 - binary_accuracy: 0.9587 - loss: 0.1250\n",
      "Epoch 49/200\n",
      "35/35 - 9s - 263ms/step - auc: 0.9746 - binary_accuracy: 0.9585 - loss: 0.1245\n",
      "Epoch 50/200\n",
      "35/35 - 9s - 262ms/step - auc: 0.9762 - binary_accuracy: 0.9599 - loss: 0.1201\n",
      "Epoch 51/200\n",
      "35/35 - 9s - 263ms/step - auc: 0.9786 - binary_accuracy: 0.9623 - loss: 0.1121\n",
      "Epoch 52/200\n",
      "35/35 - 9s - 263ms/step - auc: 0.9807 - binary_accuracy: 0.9604 - loss: 0.1105\n",
      "Epoch 53/200\n",
      "35/35 - 9s - 265ms/step - auc: 0.9813 - binary_accuracy: 0.9646 - loss: 0.1056\n",
      "Epoch 54/200\n",
      "35/35 - 9s - 264ms/step - auc: 0.9817 - binary_accuracy: 0.9653 - loss: 0.1063\n",
      "Epoch 55/200\n",
      "35/35 - 9s - 263ms/step - auc: 0.9777 - binary_accuracy: 0.9575 - loss: 0.1218\n",
      "Epoch 56/200\n",
      "35/35 - 9s - 265ms/step - auc: 0.9814 - binary_accuracy: 0.9659 - loss: 0.1027\n",
      "Epoch 57/200\n",
      "35/35 - 9s - 264ms/step - auc: 0.9837 - binary_accuracy: 0.9680 - loss: 0.0944\n",
      "Training completed for model 1\n",
      "CPU times: user 51min 33s, sys: 4min 8s, total: 55min 42s\n",
      "Wall time: 19min 42s\n"
     ]
    },
    {
     "data": {
      "image/png": "[encoded data removed]",
      "text/plain": [
       "<Figure size 350x291.667 with 1 Axes>"
      ]
     },
     "metadata": {},
     "output_type": "display_data"
    }
   ],
   "source": [
    "%%time\n",
    "num_models = 2\n",
    "L = X_train.shape[1]\n",
    "# models = parallel_train(num_models, X_train, y_train, L)\n",
    "models = sequential_train(num_models, X_train, y_train, L)"
   ]
  },
  {
   "cell_type": "code",
   "execution_count": null,
   "id": "bf4c459f",
   "metadata": {
    "id": "bf4c459f"
   },
   "outputs": [],
   "source": [
    "# # serialize model to JSON\n",
    "# inference_model_json = inference_model.to_json()\n",
    "# with open(\"../saved_models/model.json\", \"w\") as json_file:\n",
    "#     json_file.write(inference_model_json)\n",
    "# # serialize weights to HDF5\n",
    "# inference_model.save_weights(\"../saved_models/model.h5\")\n",
    "# # saving RNs\n",
    "# np.save('../saved_models/model.npy', RN)"
   ]
  },
  {
   "cell_type": "code",
   "execution_count": 38,
   "id": "2eea2a94",
   "metadata": {
    "id": "2eea2a94",
    "outputId": "58ee72b5-df99-4247-c213-27e291428452"
   },
   "outputs": [],
   "source": [
    "X_test = np.concatenate([X_test_positive, X_test_negative])\n",
    "y_test = np.concatenate([np.ones(X_test_positive.shape[0]), np.zeros(X_test_negative.shape[0])])\n",
    "# yhat_test =  inference_model.predict([X_test, np.array([counts_aa(xi) for xi in X_test])])"
   ]
  },
  {
   "cell_type": "code",
   "execution_count": 37,
   "id": "6c7982c4-27dc-4f0b-8656-61d4ddc0e2d8",
   "metadata": {},
   "outputs": [
    {
     "name": "stdout",
     "output_type": "stream",
     "text": [
      "\u001b[1m240/240\u001b[0m \u001b[32m━━━━━━━━━━━━━━━━━━━━\u001b[0m\u001b[37m\u001b[0m \u001b[1m11s\u001b[0m 48ms/step\n",
      "\u001b[1m240/240\u001b[0m \u001b[32m━━━━━━━━━━━━━━━━━━━━\u001b[0m\u001b[37m\u001b[0m \u001b[1m11s\u001b[0m 46ms/step\n"
     ]
    },
    {
     "data": {
      "text/plain": [
       "(array([[0.00507112],\n",
       "        [0.917415  ],\n",
       "        [0.01506518],\n",
       "        ...,\n",
       "        [0.8338187 ],\n",
       "        [0.3784352 ],\n",
       "        [0.00516247]], dtype=float32),\n",
       " array([[4.6080444e-04],\n",
       "        [1.3374746e-02],\n",
       "        [7.2423005e-03],\n",
       "        ...,\n",
       "        [6.5980583e-02],\n",
       "        [3.7344682e-01],\n",
       "        [3.4036348e-05]], dtype=float32))"
      ]
     },
     "execution_count": 37,
     "metadata": {},
     "output_type": "execute_result"
    }
   ],
   "source": [
    "def evaluate_models(models, X_test):\n",
    "    yhats = []\n",
    "    for m in models:\n",
    "        yhat_test =  m.predict([X_test, np.array([counts_aa(xi) for xi in X_test])])\n",
    "        yhats.append(yhat_test)\n",
    "    mean_pred = np.mean(yhats, axis=0)\n",
    "    std_pred = np.std(yhats, axis=0)\n",
    "    return (mean_pred, std_pred)\n",
    "\n",
    "evaluate_models(models, X_test)"
   ]
  },
  {
   "cell_type": "code",
   "execution_count": null,
   "id": "c65668d0",
   "metadata": {
    "id": "c65668d0",
    "outputId": "01dfc364-9ab8-4be6-cc3a-96576594f2dd"
   },
   "outputs": [],
   "source": [
    "plt.hist(yhat_test, label='predicted', alpha=0.5, bins=10)\n",
    "plt.hist(y_test, label='true', alpha=0.5, bins=10)\n",
    "plt.legend()"
   ]
  },
  {
   "cell_type": "code",
   "execution_count": null,
   "id": "0cb7f847",
   "metadata": {
    "id": "0cb7f847",
    "outputId": "294f9fc2-c145-464c-c38f-ce9685719eae"
   },
   "outputs": [],
   "source": [
    "from sklearn.metrics import roc_auc_score\n",
    "from sklearn.metrics import roc_curve\n",
    "from sklearn.metrics import accuracy_score\n",
    "from sklearn.metrics import f1_score\n",
    "\n",
    "fpr, tpr, thresholds = roc_curve(y_test, yhat_test, drop_intermediate=False)\n",
    "# calculate the g-mean for each threshold\n",
    "gmeans = np.sqrt(tpr * (1-fpr))\n",
    "# locate the index of the largest g-mean\n",
    "ix = np.argmax(gmeans)\n",
    "best_accuracy_threshold = thresholds[ix]\n",
    "print('Best Threshold=%f, G-Mean=%.3f' % (thresholds[ix], gmeans[ix]))\n",
    "adjusted_y_hat_test = [1 if m>best_accuracy_threshold else 0 for m in yhat_test]\n",
    "acc = accuracy_score(y_test, adjusted_y_hat_test, normalize=True)\n",
    "print(f'Accuracy: {acc:.3f}')\n",
    "f1 = f1_score(y_test, adjusted_y_hat_test, average='macro')\n",
    "print(f'F1 Score: {f1:.3f}')\n",
    "auc = roc_auc_score(y_test, yhat_test, average='macro')\n",
    "print(f'AUC: {auc:.3f}')\n",
    "plt.figure(dpi=200)\n",
    "plt.hist(adjusted_y_hat_test, label='predicted', alpha=0.5, bins=10)\n",
    "plt.hist(y_test, label='true', alpha=0.5, bins=10)\n",
    "plt.legend()"
   ]
  },
  {
   "cell_type": "code",
   "execution_count": null,
   "id": "4e5b941b",
   "metadata": {
    "id": "4e5b941b",
    "outputId": "12dd3f90-3a19-4b29-9a0f-6b1294f6ee78"
   },
   "outputs": [],
   "source": [
    "import ghostml\n",
    "from sklearn.metrics import roc_auc_score\n",
    "from sklearn.metrics import roc_curve\n",
    "from sklearn.metrics import accuracy_score\n",
    "from sklearn.metrics import f1_score\n",
    "\n",
    "# train_probs = model_2.predict([NP, np.array([counts_aa(xi) for xi in NP])])\n",
    "thresholds = np.round(np.arange(0.1,0.95,0.005),2)\n",
    "threshold1 = ghostml.optimize_threshold_from_predictions(y_test, yhat_test[:,0], thresholds, ThOpt_metrics = 'Kappa')\n",
    "print(f'\\nBest ghostml Threshold=%f, {threshold1}')\n",
    "best_accuracy_threshold = threshold1\n",
    "adjusted_y_hat_test = [1 if m>best_accuracy_threshold else 0 for m in yhat_test]\n",
    "acc = accuracy_score(y_test, adjusted_y_hat_test, normalize=True)\n",
    "print(f'Accuracy: {acc:.3f}')\n",
    "f1 = f1_score(y_test, adjusted_y_hat_test, average='macro')\n",
    "print(f'F1 Score: {f1:.3f}')\n",
    "auc = roc_auc_score(y_test, yhat_test, average='macro')\n",
    "print(f'AUC: {auc:.3f}')\n",
    "\n",
    "plt.figure(dpi=200)\n",
    "plt.hist(adjusted_y_hat_test, label='predicted', alpha=0.5, bins=10)\n",
    "plt.hist(y_test, label='true', alpha=0.5, bins=10)\n",
    "plt.legend()"
   ]
  },
  {
   "cell_type": "code",
   "execution_count": null,
   "id": "bf68809e",
   "metadata": {
    "id": "bf68809e"
   },
   "outputs": [],
   "source": []
  },
  {
   "cell_type": "markdown",
   "id": "02298fc1-f209-45c0-8258-2d53d773b4c3",
   "metadata": {},
   "source": [
    "# "
   ]
  }
 ],
 "metadata": {
  "accelerator": "GPU",
  "colab": {
   "gpuType": "T4",
   "provenance": []
  },
  "kernelspec": {
   "display_name": "agent",
   "language": "python",
   "name": "agent"
  },
  "language_info": {
   "codemirror_mode": {
    "name": "ipython",
    "version": 3
   },
   "file_extension": ".py",
   "mimetype": "text/x-python",
   "name": "python",
   "nbconvert_exporter": "python",
   "pygments_lexer": "ipython3",
   "version": "3.11.8"
  }
 },
 "nbformat": 4,
 "nbformat_minor": 5
}
